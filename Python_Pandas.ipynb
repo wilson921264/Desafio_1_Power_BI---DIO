{
  "cells": [
    {
      "cell_type": "markdown",
      "metadata": {
        "id": "view-in-github",
        "colab_type": "text"
      },
      "source": [
        "<a href=\"https://colab.research.google.com/github/wilson921264/Desafio_1_Power_BI---DIO/blob/main/Python_Pandas.ipynb\" target=\"_parent\"><img src=\"https://colab.research.google.com/assets/colab-badge.svg\" alt=\"Open In Colab\"/></a>"
      ]
    },
    {
      "cell_type": "code",
      "execution_count": 1,
      "metadata": {
        "colab": {
          "base_uri": "https://localhost:8080/"
        },
        "id": "VdsatnVpSUdL",
        "outputId": "c2afe198-2842-4d82-f375-16ae1405c916"
      },
      "outputs": [
        {
          "output_type": "stream",
          "name": "stdout",
          "text": [
            "Versão da Linguagem Python Usada Neste Jupyter Notebook: 3.10.12\n"
          ]
        }
      ],
      "source": [
        "# Versão da Linguagem Python\n",
        "from platform import python_version\n",
        "print('Versão da Linguagem Python Usada Neste Jupyter Notebook:', python_version())"
      ]
    },
    {
      "cell_type": "markdown",
      "metadata": {
        "id": "L0xPV0LlSUdM"
      },
      "source": [
        "Guia de Usuário do Pandas:\n",
        "\n",
        "https://pandas.pydata.org/pandas-docs/stable/user_guide/index.html#user-guide"
      ]
    },
    {
      "cell_type": "code",
      "execution_count": 2,
      "metadata": {
        "id": "XLl4zoJmSUdM"
      },
      "outputs": [],
      "source": [
        "# Instala a versão exata do pacote\n",
        "#!pip install -q pandas==1.5.3"
      ]
    },
    {
      "cell_type": "code",
      "execution_count": 3,
      "metadata": {
        "id": "Yuhr4diMSUdM"
      },
      "outputs": [],
      "source": [
        "import pandas as pd"
      ]
    },
    {
      "cell_type": "code",
      "execution_count": 4,
      "metadata": {
        "colab": {
          "base_uri": "https://localhost:8080/",
          "height": 35
        },
        "id": "uQ9p0bH0SUdN",
        "outputId": "7b062cc7-e930-45e4-f315-5ec1f259dd18"
      },
      "outputs": [
        {
          "output_type": "execute_result",
          "data": {
            "text/plain": [
              "'2.0.3'"
            ],
            "application/vnd.google.colaboratory.intrinsic+json": {
              "type": "string"
            }
          },
          "metadata": {},
          "execution_count": 4
        }
      ],
      "source": [
        "pd.__version__"
      ]
    },
    {
      "cell_type": "markdown",
      "metadata": {
        "id": "D0x9PsWMSUdN"
      },
      "source": [
        "## Manipulando Dados em DataFrames do Pandas"
      ]
    },
    {
      "cell_type": "code",
      "execution_count": 5,
      "metadata": {
        "id": "j930C33hSUdN"
      },
      "outputs": [],
      "source": [
        "# Cria um dicionário\n",
        "dados = {'Estado': ['Santa Catarina', 'Rio de Janeiro', 'Tocantins', 'Bahia', 'Minas Gerais'],\n",
        "         'Ano': [2004, 2005, 2006, 2007, 2008],\n",
        "         'Taxa Desemprego': [1.5, 1.7, 1.6, 2.4, 2.7]}"
      ]
    },
    {
      "cell_type": "code",
      "execution_count": null,
      "metadata": {
        "id": "WV9hYY22SUdN",
        "outputId": "5575c735-a04a-4191-a278-9795eeead8e8"
      },
      "outputs": [
        {
          "name": "stdout",
          "output_type": "stream",
          "text": [
            "{'Estado': ['Santa Catarina', 'Rio de Janeiro', 'Tocantins', 'Bahia', 'Minas Gerais'], 'Ano': [2004, 2005, 2006, 2007, 2008], 'Taxa Desemprego': [1.5, 1.7, 1.6, 2.4, 2.7]}\n"
          ]
        }
      ],
      "source": [
        "print(dados)"
      ]
    },
    {
      "cell_type": "code",
      "execution_count": 6,
      "metadata": {
        "id": "k9iLF5EgSUdN"
      },
      "outputs": [],
      "source": [
        "# Importa a função DataFrame do Pandas\n",
        "from pandas import DataFrame"
      ]
    },
    {
      "cell_type": "code",
      "execution_count": 7,
      "metadata": {
        "id": "05hELx-cSUdN"
      },
      "outputs": [],
      "source": [
        "# Converte o dicionário em um dataframe\n",
        "df = DataFrame(dados)"
      ]
    },
    {
      "cell_type": "code",
      "execution_count": null,
      "metadata": {
        "id": "B3Chard6SUdO"
      },
      "outputs": [],
      "source": [
        "# Visualiza as 5 primeiras linhas\n",
        "df.head()"
      ]
    },
    {
      "cell_type": "code",
      "execution_count": null,
      "metadata": {
        "id": "SbWiRnNASUdO"
      },
      "outputs": [],
      "source": [
        "type(df)"
      ]
    },
    {
      "cell_type": "code",
      "execution_count": null,
      "metadata": {
        "id": "1tNWTbLpSUdO"
      },
      "outputs": [],
      "source": [
        "# Reorganizando as colunas\n",
        "DataFrame(dados, columns = ['Estado', 'Taxa Desemprego', 'Ano'])"
      ]
    },
    {
      "cell_type": "code",
      "execution_count": 11,
      "metadata": {
        "id": "rcsjGEgDSUdO"
      },
      "outputs": [],
      "source": [
        "# Criando outro dataframe com os mesmo dados anteriores mas adicionando uma coluna\n",
        "df2 = DataFrame(dados,\n",
        "                columns = ['Estado', 'Taxa Desemprego', 'Taxa Crescimento', 'Ano'],\n",
        "                index = ['estado1', 'estado2', 'estado3', 'estado4', 'estado5'])"
      ]
    },
    {
      "cell_type": "code",
      "execution_count": null,
      "metadata": {
        "id": "pMT7QFKJSUdO"
      },
      "outputs": [],
      "source": [
        "df2"
      ]
    },
    {
      "source": [
        "from matplotlib import pyplot as plt\n",
        "df2['Taxa Desemprego'].plot(kind='hist', bins=20, title='Taxa Desemprego')\n",
        "plt.gca().spines[['top', 'right',]].set_visible(False)"
      ],
      "cell_type": "code",
      "metadata": {
        "id": "1BEhcL5QTgQC"
      },
      "execution_count": null,
      "outputs": []
    },
    {
      "cell_type": "code",
      "source": [],
      "metadata": {
        "id": "7FlyMlrMTSo0"
      },
      "execution_count": null,
      "outputs": []
    },
    {
      "cell_type": "code",
      "execution_count": null,
      "metadata": {
        "id": "XoOQfoC1SUdO"
      },
      "outputs": [],
      "source": [
        "df2.values"
      ]
    },
    {
      "cell_type": "code",
      "execution_count": null,
      "metadata": {
        "id": "RKZ24BNnSUdP"
      },
      "outputs": [],
      "source": [
        "df2.dtypes"
      ]
    },
    {
      "cell_type": "code",
      "execution_count": null,
      "metadata": {
        "id": "ccVIP0kySUdP"
      },
      "outputs": [],
      "source": [
        "df2.columns"
      ]
    },
    {
      "cell_type": "code",
      "execution_count": null,
      "metadata": {
        "id": "vMf0RNYNSUdP"
      },
      "outputs": [],
      "source": [
        "# Imprimindo apenas uma coluna do Dataframe\n",
        "df2['Estado']"
      ]
    },
    {
      "cell_type": "code",
      "execution_count": null,
      "metadata": {
        "id": "vZ04lRz1SUdP"
      },
      "outputs": [],
      "source": [
        "# Linguagem Python é case sensitive\n",
        "# df2['estado']"
      ]
    },
    {
      "cell_type": "code",
      "execution_count": null,
      "metadata": {
        "id": "SVFHReUuSUdP"
      },
      "outputs": [],
      "source": [
        "# Imprimindo apenas duas colunas do Dataframe\n",
        "df2 [['Taxa Desemprego', 'Ano'] ]"
      ]
    },
    {
      "cell_type": "code",
      "execution_count": null,
      "metadata": {
        "id": "X6LfZSaVSUdQ"
      },
      "outputs": [],
      "source": [
        "df2.index"
      ]
    },
    {
      "cell_type": "code",
      "execution_count": null,
      "metadata": {
        "id": "T5RsIgsPSUdQ"
      },
      "outputs": [],
      "source": [
        "# Filtrando pelo índice\n",
        "df2.filter(items = ['estado3'], axis = 0)"
      ]
    },
    {
      "cell_type": "markdown",
      "metadata": {
        "id": "DRw1SWX_SUdQ"
      },
      "source": [
        "## Usando NumPy e Pandas Para Manipulação de Dados"
      ]
    },
    {
      "cell_type": "code",
      "execution_count": null,
      "metadata": {
        "id": "ec8j40A6SUdQ"
      },
      "outputs": [],
      "source": [
        "df2.head()"
      ]
    },
    {
      "cell_type": "code",
      "execution_count": null,
      "metadata": {
        "id": "kaDstUOLSUdQ"
      },
      "outputs": [],
      "source": [
        "df2.dtypes"
      ]
    },
    {
      "cell_type": "code",
      "execution_count": null,
      "metadata": {
        "id": "rD1VvvCPSUdQ"
      },
      "outputs": [],
      "source": [
        "# Resumo estatístico do Dataframe\n",
        "df2.describe()"
      ]
    },
    {
      "cell_type": "code",
      "execution_count": null,
      "metadata": {
        "id": "7-vjM1qNSUdR"
      },
      "outputs": [],
      "source": [
        "df2.isna()"
      ]
    },
    {
      "cell_type": "code",
      "execution_count": null,
      "metadata": {
        "id": "4H-h9myHSUdR"
      },
      "outputs": [],
      "source": [
        "df2['Taxa Crescimento'].isna()"
      ]
    },
    {
      "cell_type": "code",
      "execution_count": null,
      "metadata": {
        "id": "dsSeML95SUdR"
      },
      "outputs": [],
      "source": [
        "# Importando o NumPy\n",
        "import numpy as np"
      ]
    },
    {
      "cell_type": "code",
      "execution_count": null,
      "metadata": {
        "id": "Bk-vFqHfSUdR"
      },
      "outputs": [],
      "source": [
        "# Usando o NumPy para alimentar uma das colunas do dataframe\n",
        "df2['Taxa Crescimento'] = (1.2,3,5.0,6,8)\n",
        "# ou  df2['Taxa Crescimento'] = np.arange(5.) -- montar como um range"
      ]
    },
    {
      "cell_type": "code",
      "execution_count": null,
      "metadata": {
        "id": "RY8jmB0QSUdR"
      },
      "outputs": [],
      "source": [
        "df2"
      ]
    },
    {
      "cell_type": "code",
      "execution_count": null,
      "metadata": {
        "id": "1Fe6hR_2SUdS"
      },
      "outputs": [],
      "source": [
        "df2.dtypes"
      ]
    },
    {
      "cell_type": "code",
      "execution_count": null,
      "metadata": {
        "id": "qItdXM2HSUdS"
      },
      "outputs": [],
      "source": [
        "df2['Taxa Crescimento'].isna()"
      ]
    },
    {
      "cell_type": "code",
      "execution_count": null,
      "metadata": {
        "id": "hf96JWBMSUdS"
      },
      "outputs": [],
      "source": [
        "# Resumo estatístico do Dataframe\n",
        "df2.describe()"
      ]
    },
    {
      "cell_type": "markdown",
      "metadata": {
        "id": "xmQ8ektCSUdS"
      },
      "source": [
        "## Slicing de DataFrames do Pandas"
      ]
    },
    {
      "cell_type": "code",
      "execution_count": null,
      "metadata": {
        "id": "wJf7UfwwSUdS"
      },
      "outputs": [],
      "source": [
        "df2"
      ]
    },
    {
      "cell_type": "code",
      "execution_count": null,
      "metadata": {
        "id": "0K23jmsKSUdT"
      },
      "outputs": [],
      "source": [
        "df2['estado2':'estado4']"
      ]
    },
    {
      "cell_type": "code",
      "execution_count": null,
      "metadata": {
        "id": "H0IE-zOMSUdT"
      },
      "outputs": [],
      "source": [
        "df2[ df2['Taxa Desemprego'] < 2 ]"
      ]
    },
    {
      "cell_type": "code",
      "execution_count": null,
      "metadata": {
        "id": "l9ox0ERwSUdT"
      },
      "outputs": [],
      "source": [
        "df2['Taxa Crescimento']"
      ]
    },
    {
      "cell_type": "code",
      "execution_count": null,
      "metadata": {
        "id": "BfjTJE0DSUdU"
      },
      "outputs": [],
      "source": [
        "df2[['Estado', 'Taxa Crescimento']]"
      ]
    },
    {
      "cell_type": "code",
      "execution_count": null,
      "metadata": {
        "id": "NkkG2vB1SUdU"
      },
      "outputs": [],
      "source": [
        "df2[['Estado', 'Taxa Crescimento', 'Ano']]"
      ]
    },
    {
      "cell_type": "markdown",
      "metadata": {
        "id": "SKcQZi6FSUdU"
      },
      "source": [
        "## Preenchendo Valores Ausentes em DataFrames do Pandas\n",
        "\n",
        "A função fillna() é usada para preencher os valores ausentes. A função oferece muitas opções. Podemos usar um valor específico, uma função agregada (por exemplo, média) ou o valor anterior ou seguinte.\n",
        "\n",
        "Para esse exemplo usaremos a moda, a estatística que representa o valor que aparece mais vezes em uma variável."
      ]
    },
    {
      "cell_type": "code",
      "execution_count": null,
      "metadata": {
        "id": "3pRJOKhFSUdU"
      },
      "outputs": [],
      "source": [
        "# Primeiro importamos um dataset\n",
        "colab_df = pd.read_csv(\"dataset.csv\")"
      ]
    },
    {
      "cell_type": "code",
      "execution_count": null,
      "metadata": {
        "id": "GV62-g_oSUdU"
      },
      "outputs": [],
      "source": [
        "colab_df.head(5)"
      ]
    },
    {
      "cell_type": "code",
      "execution_count": null,
      "metadata": {
        "id": "euuPL7o3SUdV"
      },
      "outputs": [],
      "source": [
        "colab_df.isna().sum()"
      ]
    },
    {
      "cell_type": "code",
      "execution_count": null,
      "metadata": {
        "id": "2qlxuNf-SUdV"
      },
      "outputs": [],
      "source": [
        "# Extraímos a moda da coluna Quantity\n",
        "moda = colab_df['Quantidade'].value_counts().index[0]"
      ]
    },
    {
      "cell_type": "markdown",
      "metadata": {
        "id": "K3XAQ1FCSUdV"
      },
      "source": [
        "A moda em Estatística é uma medida de tendência central que representa o valor mais frequente em um conjunto de dados.\n",
        "\n",
        "A moda é especialmente útil quando queremos saber qual é o valor mais comum ou popular em um conjunto de dados, seja em uma distribuição unimodal (com apenas uma moda) ou em uma distribuição bimodal (com duas modas).\n",
        "\n",
        "No entanto, a moda pode não ser tão representativa quanto outras medidas de tendência central, como a média e a mediana, especialmente em distribuições assimétricas ou quando há valores extremos. Por essa razão, é importante analisar diferentes medidas de tendência central e usar a que melhor se adequa aos objetivos da análise estatística."
      ]
    },
    {
      "cell_type": "code",
      "execution_count": null,
      "metadata": {
        "id": "03AKO2o0SUdV",
        "outputId": "e552466c-82c9-43fb-b8a4-099afd8609f6"
      },
      "outputs": [
        {
          "name": "stdout",
          "output_type": "stream",
          "text": [
            "3.0\n"
          ]
        }
      ],
      "source": [
        "print(moda)"
      ]
    },
    {
      "cell_type": "code",
      "execution_count": null,
      "metadata": {
        "id": "v0-wltK3SUdV",
        "outputId": "5908f65a-b212-4268-c01e-e8a5c5b72625"
      },
      "outputs": [
        {
          "name": "stderr",
          "output_type": "stream",
          "text": [
            "C:\\Users\\Wilson\\AppData\\Local\\Temp\\ipykernel_12896\\4239898850.py:2: FutureWarning: A value is trying to be set on a copy of a DataFrame or Series through chained assignment using an inplace method.\n",
            "The behavior will change in pandas 3.0. This inplace method will never work because the intermediate object on which we are setting values always behaves as a copy.\n",
            "\n",
            "For example, when doing 'df[col].method(value, inplace=True)', try using 'df.method({col: value}, inplace=True)' or df[col] = df[col].method(value) instead, to perform the operation inplace on the original object.\n",
            "\n",
            "\n",
            "  dsa_df['Quantidade'].fillna(value = moda, inplace = True)\n"
          ]
        }
      ],
      "source": [
        "# E por fim preenchemos os valores NA com a moda\n",
        "colab_df['Quantidade'].fillna(value = moda, inplace = True)"
      ]
    },
    {
      "cell_type": "code",
      "execution_count": null,
      "metadata": {
        "id": "aAYq1QDfSUdW"
      },
      "outputs": [],
      "source": [
        "colab_df.isna().sum()"
      ]
    },
    {
      "cell_type": "markdown",
      "metadata": {
        "id": "TAMCIBs2SUdW"
      },
      "source": [
        "## Query (Consulta) de Dados no DataFrame do Pandas\n",
        "\n",
        "Com o Pandas criamos dataframes, que são essencialmente tabelas. Como tal, podemos fazer consultas, ou simplesmente queries. E para isso usamos o método query(). Veja o exemplo abaixo:"
      ]
    },
    {
      "cell_type": "code",
      "execution_count": null,
      "metadata": {
        "id": "n77vcAkBSUdW"
      },
      "outputs": [],
      "source": [
        "colab_df.head()"
      ]
    },
    {
      "cell_type": "code",
      "execution_count": null,
      "metadata": {
        "id": "Yj6d8BVmSUdW"
      },
      "outputs": [],
      "source": [
        "# Checamos os valores mínimo e máximo da coluna Valor_Venda\n",
        "colab_df.Valor_Venda.describe()"
      ]
    },
    {
      "cell_type": "markdown",
      "metadata": {
        "id": "zyvlIPygSUdX"
      },
      "source": [
        "O intervalo de vendas (Valor_Venda) é de 0.44 a 22638. Vamos fazer uma consulta e retornar todas as vendas dentro de um range de valores. Fazemos isso com a instrução abaixo:"
      ]
    },
    {
      "cell_type": "code",
      "execution_count": null,
      "metadata": {
        "id": "CUWQBrqmSUdX"
      },
      "outputs": [],
      "source": [
        "# Geramos um novo dataframe apenas com o intervalo de vendas entre 229 e 10000\n",
        "df2 = colab_df.query('229 < Valor_Venda < 10000')"
      ]
    },
    {
      "cell_type": "code",
      "execution_count": null,
      "metadata": {
        "id": "JjeO3kPwSUdX"
      },
      "outputs": [],
      "source": [
        "# Então confirmamos os valores mínimo e máximo\n",
        "df2.Valor_Venda.describe()"
      ]
    },
    {
      "cell_type": "code",
      "execution_count": null,
      "metadata": {
        "id": "W-LDV6iPSUdX"
      },
      "outputs": [],
      "source": [
        "# Geramos um novo dataframe apenas com os valores de venda acima da média\n",
        "df3 = df2.query('Valor_Venda > 766')"
      ]
    },
    {
      "cell_type": "code",
      "execution_count": null,
      "metadata": {
        "id": "guFI_qlfSUdX"
      },
      "outputs": [],
      "source": [
        "df3.head()"
      ]
    },
    {
      "cell_type": "markdown",
      "metadata": {
        "id": "OkEiv0fqSUdX"
      },
      "source": [
        "Consulta executada com sucesso!"
      ]
    },
    {
      "cell_type": "markdown",
      "metadata": {
        "id": "5setJ1evSUdY"
      },
      "source": [
        "## Verificando a Ocorrência de Diversos Valores em Uma Coluna\n",
        "\n",
        "Em nosso conjunto de dados de exemplo temos a coluna Quantidade que representa a quantidade de itens vendidos em cada uma das vendas. Imagine que precisamos saber em quais vendas foram vendidos 5, 7, 9 ou 11 itens.\n",
        "\n",
        "Como aplicaríamos esse tipo de filtro ao nosso dataframe?\n",
        "\n",
        "Fácil. O Pandas oferece o método isin() para checar diversos valores em uma coluna. Quem conhece Linguagem SQL já deve ter percebido que o método é o mesmo que a cláusula IN em SQL. Vamos ao exemplo."
      ]
    },
    {
      "cell_type": "code",
      "execution_count": null,
      "metadata": {
        "id": "S6d_CDH5SUdY"
      },
      "outputs": [],
      "source": [
        "colab_df.shape"
      ]
    },
    {
      "cell_type": "code",
      "execution_count": null,
      "metadata": {
        "id": "fN2EBPm_SUdY"
      },
      "outputs": [],
      "source": [
        "# Então aplicamos o filtro\n",
        "colab_df[dsa_df['Quantidade'].isin([5,7,9,11])]"
      ]
    },
    {
      "cell_type": "markdown",
      "metadata": {
        "id": "eHMVKEIXSUdY"
      },
      "source": [
        "Na instrução acima estamos filtrando o dataframe chamado df, retornando todas as linhas onde a coluna Quantidade for igual aos valores 5, 7, 9 ou 11. Passamos uma lista de valores como argumento para o método isin().\n",
        "\n",
        "Vamos deixar um pouquinho mais divertido. Se você executou a instrução acima, percebeu que foram retornadas 2.128 linhas. E se quisermos retornar somente 10 linhas? É só fatiar o resultado assim:"
      ]
    },
    {
      "cell_type": "code",
      "execution_count": null,
      "metadata": {
        "id": "hpIZQuXySUdY"
      },
      "outputs": [],
      "source": [
        "# Shape\n",
        "colab_df[colab_df['Quantidade'].isin([5,7,9,11])].shape"
      ]
    },
    {
      "cell_type": "code",
      "execution_count": null,
      "metadata": {
        "id": "nM895JAaSUdZ"
      },
      "outputs": [],
      "source": [
        "colab_df[colab_df['Quantidade'].isin([5,7,9,11])][:10]"
      ]
    },
    {
      "cell_type": "markdown",
      "metadata": {
        "id": "nHesRGEgSUdZ"
      },
      "source": [
        "## Operadores Lógicos Para Manipulação de Dados com Pandas\n",
        "\n",
        "Os operadores lógicos são excelentes para filtrar dataframes e retornar exatamente os dados que precisamos para nosso trabalho. Para conhecer mais sobre as regras dos operadores lógicos, acesse aqui:\n",
        "\n",
        "https://pt.wikipedia.org/wiki/Operador_l%C3%B3gico"
      ]
    },
    {
      "cell_type": "markdown",
      "metadata": {
        "id": "ghuJ6E2YSUda"
      },
      "source": [
        "Primeiro usaremos o operador lógico AND para checar duas condições. Serão retornados os registros quando as duas condições forem verdadeiras."
      ]
    },
    {
      "cell_type": "code",
      "execution_count": null,
      "metadata": {
        "id": "25F5px3GSUda"
      },
      "outputs": [],
      "source": [
        "# Filtrando as vendas que ocorreram para o segmento de Home Office e na região South\n",
        "colab_df[ (colab_df.Segmento == 'Home Office') & (colab_df.Regiao == 'South') ].head()"
      ]
    },
    {
      "cell_type": "markdown",
      "metadata": {
        "id": "idOKIwW1SUda"
      },
      "source": [
        "Mas pode ser necessário checar duas condições e retornar os registros se pelo menos uma for verdadeira. Nesse caso usamos o operador OR, conforme abaixo."
      ]
    },
    {
      "cell_type": "code",
      "execution_count": null,
      "metadata": {
        "id": "xjvGf8C5SUda"
      },
      "outputs": [],
      "source": [
        "# Filtrando as vendas que ocorreram para o segmento de Home Office ou região South\n",
        "colab_df[(colab_df.Segmento == 'Home Office') | (colab_df.Regiao == 'South')].tail()"
      ]
    },
    {
      "cell_type": "markdown",
      "metadata": {
        "id": "jlL3e4IoSUda"
      },
      "source": [
        "O operador de negação é o contrário do primeiro exemplo."
      ]
    },
    {
      "cell_type": "code",
      "execution_count": null,
      "metadata": {
        "id": "6elwke28SUdb"
      },
      "outputs": [],
      "source": [
        "# Filtrando as vendas que não ocorreram para o segmento de Home Office e nem na região South\n",
        "colab_df[(colab_df.Segmento != 'Home Office') & (colab_df.Regiao != 'South')].sample(5)"
      ]
    },
    {
      "cell_type": "markdown",
      "metadata": {
        "id": "BOGpb05aSUdb"
      },
      "source": [
        "## Agrupamento de Dados em DataFrames com Group By\n",
        "\n",
        "A função Pandas Groupby é uma função versátil e fácil de usar que ajuda a obter uma visão geral dos dados. Isso torna mais fácil explorar o conjunto de dados e revelar os relacionamentos entre as variáveis.\n",
        "\n",
        "O código a seguir agrupará as linhas com base nas combinações Segmento/Regiao/Valor_Venda e nos dará a taxa média de vendas de cada grupo."
      ]
    },
    {
      "cell_type": "code",
      "execution_count": null,
      "metadata": {
        "id": "k2IMbBNnSUdb"
      },
      "outputs": [],
      "source": [
        "# Aplicamos o group by\n",
        "colab_df[['Segmento', 'Regiao', 'Valor_Venda']].groupby(['Segmento', 'Regiao']).mean()"
      ]
    },
    {
      "cell_type": "markdown",
      "metadata": {
        "id": "r9l5AC5PSUdb"
      },
      "source": [
        "Na instrução acima, primeiro filtramos os dados extraindo 3 colunas: ['Segmento','Regiao','Valor_Venda']. Na sequência, agrupamos por duas colunas: ['Segmento','Regiao']. E então calculamos a média para a coluna que ficou foram do group by, nesse caso a coluna Sales.\n",
        "\n",
        "O comportamento do group by com Pandas é o mesmo observado na Linguagem SQL."
      ]
    },
    {
      "cell_type": "markdown",
      "metadata": {
        "id": "ZQEd7Ah9SUdb"
      },
      "source": [
        "## Agregação Múltipla com Group By\n",
        "\n",
        "Vamos explorar mais a função groupby() pois temos diversas opções de sumarização dos dados de forma simples. No exemplo abaixo uniremos a função groupby() com a função agg() para realiza agregação múltipla."
      ]
    },
    {
      "cell_type": "code",
      "execution_count": null,
      "metadata": {
        "id": "-QeQ9445SUdc"
      },
      "outputs": [],
      "source": [
        "# Aplicamos o group by\n",
        "colab_df[['Segmento', 'Regiao', 'Valor_Venda']].groupby(['Segmento', 'Regiao']).agg(['mean', 'std', 'count'])"
      ]
    },
    {
      "cell_type": "markdown",
      "metadata": {
        "id": "QWO0WOnOSUdc"
      },
      "source": [
        "Na instrução acima, primeiro filtramos os dados extraindo 3 colunas: ['Segmento','Regiao','Valor_Venda']. Na sequência, agrupamos por duas colunas: ['Segmento','Regiao']. E então agregamos os dados calculando a média, desvio padrão e contagem de elementos para a coluna que ficou fora do group by, nesse caso a coluna Valor_Venda.\n",
        "\n",
        "A função agg() recebe como argumento uma lista de funções para agregação."
      ]
    },
    {
      "cell_type": "markdown",
      "metadata": {
        "id": "c5Ykv-wfSUdc"
      },
      "source": [
        "## Filtrando DataFrame do Pandas com Base em Strings\n",
        "\n",
        "O Pandas oferece diversas funções para manipulação de strings. Começaremos com o filtros de strings com base nas letras iniciais e finais."
      ]
    },
    {
      "cell_type": "code",
      "execution_count": null,
      "metadata": {
        "id": "vrxQGdtwSUdc"
      },
      "outputs": [],
      "source": [
        "colab_df.head()"
      ]
    },
    {
      "cell_type": "code",
      "execution_count": null,
      "metadata": {
        "id": "MWNDSPzGSUdd"
      },
      "outputs": [],
      "source": [
        "# Filtramos o dataframe pela coluna Segmento com valores que iniciam com as letras 'Con'\n",
        "colab_df[colab_df.Segmento.str.startswith('Con')].head()"
      ]
    },
    {
      "cell_type": "code",
      "execution_count": null,
      "metadata": {
        "id": "0_5EIXxsSUdd"
      },
      "outputs": [],
      "source": [
        "colab_df.Segmento.value_counts()"
      ]
    },
    {
      "cell_type": "code",
      "execution_count": null,
      "metadata": {
        "id": "VSYcorrdSUdd"
      },
      "outputs": [],
      "source": [
        "# Filtramos o dataframe pela coluna Segmento com valores que terminam com as letras 'mer'\n",
        "colab_df[colab_df.Segmento.str.endswith('mer')].head()"
      ]
    },
    {
      "cell_type": "markdown",
      "metadata": {
        "id": "DOWd5UkISUdd"
      },
      "source": [
        "As funções startswith() e endswith() são muito úteis quando for necessário filtrar strings por caracteres que apareçam no começo e/ou final."
      ]
    },
    {
      "cell_type": "markdown",
      "metadata": {
        "id": "3Fbkw_mSSUdd"
      },
      "source": [
        "## Split de Strings em DataFrames do Pandas\n",
        "\n",
        "Com Pandas podemos realizar diversas tarefas de split de strings dividindo uma coluna ou extraindo elementos do nosso interesse. Vamos ao exemplo!"
      ]
    },
    {
      "cell_type": "code",
      "execution_count": null,
      "metadata": {
        "id": "Z44DR0wNSUde",
        "outputId": "eb9a03c0-2485-4297-973c-d95ef5bab15d"
      },
      "outputs": [
        {
          "data": {
            "text/html": [
              "<div>\n",
              "<style scoped>\n",
              "    .dataframe tbody tr th:only-of-type {\n",
              "        vertical-align: middle;\n",
              "    }\n",
              "\n",
              "    .dataframe tbody tr th {\n",
              "        vertical-align: top;\n",
              "    }\n",
              "\n",
              "    .dataframe thead th {\n",
              "        text-align: right;\n",
              "    }\n",
              "</style>\n",
              "<table border=\"1\" class=\"dataframe\">\n",
              "  <thead>\n",
              "    <tr style=\"text-align: right;\">\n",
              "      <th></th>\n",
              "      <th>ID_Pedido</th>\n",
              "      <th>Data_Pedido</th>\n",
              "      <th>ID_Cliente</th>\n",
              "      <th>Segmento</th>\n",
              "      <th>Pais</th>\n",
              "      <th>Regiao</th>\n",
              "      <th>ID_Produto</th>\n",
              "      <th>Categoria</th>\n",
              "      <th>Nome_Produto</th>\n",
              "      <th>Valor_Venda</th>\n",
              "      <th>Quantidade</th>\n",
              "    </tr>\n",
              "  </thead>\n",
              "  <tbody>\n",
              "    <tr>\n",
              "      <th>0</th>\n",
              "      <td>CA-2016-152156</td>\n",
              "      <td>2016-11-08</td>\n",
              "      <td>CG-12520</td>\n",
              "      <td>Consumer</td>\n",
              "      <td>United States</td>\n",
              "      <td>South</td>\n",
              "      <td>FUR-BO-10001798</td>\n",
              "      <td>Furniture</td>\n",
              "      <td>Bush Somerset Collection Bookcase</td>\n",
              "      <td>261.9600</td>\n",
              "      <td>NaN</td>\n",
              "    </tr>\n",
              "    <tr>\n",
              "      <th>1</th>\n",
              "      <td>CA-2016-152156</td>\n",
              "      <td>2016-11-08</td>\n",
              "      <td>CG-12520</td>\n",
              "      <td>Consumer</td>\n",
              "      <td>United States</td>\n",
              "      <td>South</td>\n",
              "      <td>FUR-CH-10000454</td>\n",
              "      <td>Furniture</td>\n",
              "      <td>Hon Deluxe Fabric Upholstered Stacking Chairs,...</td>\n",
              "      <td>731.9400</td>\n",
              "      <td>NaN</td>\n",
              "    </tr>\n",
              "    <tr>\n",
              "      <th>2</th>\n",
              "      <td>CA-2016-138688</td>\n",
              "      <td>2016-06-12</td>\n",
              "      <td>DV-13045</td>\n",
              "      <td>Corporate</td>\n",
              "      <td>United States</td>\n",
              "      <td>West</td>\n",
              "      <td>OFF-LA-10000240</td>\n",
              "      <td>Office Supplies</td>\n",
              "      <td>Self-Adhesive Address Labels for Typewriters b...</td>\n",
              "      <td>14.6200</td>\n",
              "      <td>2.0</td>\n",
              "    </tr>\n",
              "    <tr>\n",
              "      <th>3</th>\n",
              "      <td>US-2015-108966</td>\n",
              "      <td>2015-10-11</td>\n",
              "      <td>SO-20335</td>\n",
              "      <td>Consumer</td>\n",
              "      <td>United States</td>\n",
              "      <td>South</td>\n",
              "      <td>FUR-TA-10000577</td>\n",
              "      <td>Furniture</td>\n",
              "      <td>Bretford CR4500 Series Slim Rectangular Table</td>\n",
              "      <td>957.5775</td>\n",
              "      <td>5.0</td>\n",
              "    </tr>\n",
              "    <tr>\n",
              "      <th>4</th>\n",
              "      <td>US-2015-108966</td>\n",
              "      <td>2015-10-11</td>\n",
              "      <td>SO-20335</td>\n",
              "      <td>Consumer</td>\n",
              "      <td>United States</td>\n",
              "      <td>South</td>\n",
              "      <td>OFF-ST-10000760</td>\n",
              "      <td>Office Supplies</td>\n",
              "      <td>Eldon Fold 'N Roll Cart System</td>\n",
              "      <td>22.3680</td>\n",
              "      <td>2.0</td>\n",
              "    </tr>\n",
              "  </tbody>\n",
              "</table>\n",
              "</div>"
            ],
            "text/plain": [
              "        ID_Pedido Data_Pedido ID_Cliente   Segmento           Pais Regiao  \\\n",
              "0  CA-2016-152156  2016-11-08   CG-12520   Consumer  United States  South   \n",
              "1  CA-2016-152156  2016-11-08   CG-12520   Consumer  United States  South   \n",
              "2  CA-2016-138688  2016-06-12   DV-13045  Corporate  United States   West   \n",
              "3  US-2015-108966  2015-10-11   SO-20335   Consumer  United States  South   \n",
              "4  US-2015-108966  2015-10-11   SO-20335   Consumer  United States  South   \n",
              "\n",
              "        ID_Produto        Categoria  \\\n",
              "0  FUR-BO-10001798        Furniture   \n",
              "1  FUR-CH-10000454        Furniture   \n",
              "2  OFF-LA-10000240  Office Supplies   \n",
              "3  FUR-TA-10000577        Furniture   \n",
              "4  OFF-ST-10000760  Office Supplies   \n",
              "\n",
              "                                        Nome_Produto  Valor_Venda  Quantidade  \n",
              "0                  Bush Somerset Collection Bookcase     261.9600         NaN  \n",
              "1  Hon Deluxe Fabric Upholstered Stacking Chairs,...     731.9400         NaN  \n",
              "2  Self-Adhesive Address Labels for Typewriters b...      14.6200         2.0  \n",
              "3      Bretford CR4500 Series Slim Rectangular Table     957.5775         5.0  \n",
              "4                     Eldon Fold 'N Roll Cart System      22.3680         2.0  "
            ]
          },
          "execution_count": 165,
          "metadata": {},
          "output_type": "execute_result"
        }
      ],
      "source": [
        "dsa_df.head()"
      ]
    },
    {
      "cell_type": "code",
      "execution_count": null,
      "metadata": {
        "id": "dcCREYAjSUde"
      },
      "outputs": [],
      "source": [
        "colab_df['ID_Pedido'].head()"
      ]
    },
    {
      "cell_type": "markdown",
      "metadata": {
        "id": "kIwPmJn2SUde"
      },
      "source": [
        "Este é o formato dos dados da coluna \"ID_Pedido\":\n",
        "\n",
        "- CA-2016-152156\n",
        "- US-2015-108966\n",
        "\n",
        "Temos o país, o ano e o id do pedido. Vamos dividir essa coluna e extrair o ano para gravar em uma nova coluna:"
      ]
    },
    {
      "cell_type": "code",
      "execution_count": null,
      "metadata": {
        "id": "UvhA_U1ZSUde"
      },
      "outputs": [],
      "source": [
        "# Split da coluna pelo caracter '-'\n",
        "colab_df['ID_Pedido'].str.split('-')"
      ]
    },
    {
      "cell_type": "markdown",
      "metadata": {
        "id": "pvK-uM6oSUde"
      },
      "source": [
        "Observe que o resultado são as listas em Python. Para extrair o ano precisamos especificar o índice da posição que queremos extrair (em nosso caso a posição 2, logo, índice 1 em Python):"
      ]
    },
    {
      "cell_type": "markdown",
      "metadata": {
        "id": "NOAWH_EZSUdl"
      },
      "source": [
        "O Pandas é uma verdadeira caixa de ferramentas para manipulação de dados em Python."
      ]
    },
    {
      "cell_type": "markdown",
      "metadata": {
        "id": "HFm-dTQXSUdl"
      },
      "source": [
        "# Fim"
      ]
    }
  ],
  "metadata": {
    "kernelspec": {
      "display_name": "Python 3 (ipykernel)",
      "language": "python",
      "name": "python3"
    },
    "language_info": {
      "codemirror_mode": {
        "name": "ipython",
        "version": 3
      },
      "file_extension": ".py",
      "mimetype": "text/x-python",
      "name": "python",
      "nbconvert_exporter": "python",
      "pygments_lexer": "ipython3",
      "version": "3.11.7"
    },
    "colab": {
      "provenance": [],
      "include_colab_link": true
    }
  },
  "nbformat": 4,
  "nbformat_minor": 0
}